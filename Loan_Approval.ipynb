{
 "cells": [
  {
   "cell_type": "code",
   "execution_count": 100,
   "id": "ccd1716d",
   "metadata": {},
   "outputs": [],
   "source": [
    "import pandas as pd\n",
    "import numpy as np\n",
    "import matplotlib.pyplot as plt\n",
    "import seaborn as sns"
   ]
  },
  {
   "cell_type": "markdown",
   "id": "81be4f40",
   "metadata": {},
   "source": [
    "# Step 1: Load the Dataset"
   ]
  },
  {
   "cell_type": "code",
   "execution_count": 101,
   "id": "37861515",
   "metadata": {},
   "outputs": [
    {
     "name": "stdout",
     "output_type": "stream",
     "text": [
      "   Loan_ID Gender Marital_Status Number_of_Dependents Education_Level  \\\n",
      "0  LP00031   Male            Yes                    0        Graduate   \n",
      "1  LP00032   Male            Yes                    2        Graduate   \n",
      "2  LP00033   Male            Yes                    0        Graduate   \n",
      "3  LP00034   Male             No                    0    Not Graduate   \n",
      "4  LP00035   Male            Yes                    0        Graduate   \n",
      "\n",
      "  Independent_Worker  Applicant_Income  Coapplicant_Income   Location  \\\n",
      "0                 No              9329                   0      Rural   \n",
      "1                 No              2043                1619      Rural   \n",
      "2                 No              4754                2331      Urban   \n",
      "3                 No              2721                   0      Urban   \n",
      "4                 No              2998                3419  Semiurban   \n",
      "\n",
      "   Amount_Requested   Term  Credit_History Approval_Status  \n",
      "0             189.0  180.0             1.0               Y  \n",
      "1             102.0  360.0             1.0               Y  \n",
      "2             129.0  360.0             1.0               Y  \n",
      "3              59.0  180.0             1.0               Y  \n",
      "4              56.0  180.0             1.0               Y  \n"
     ]
    }
   ],
   "source": [
    "# Load the dataset\n",
    "df = pd.read_csv('assessment2_dataset.csv')\n",
    "\n",
    "# Display the first few rows of the dataframe\n",
    "print(df.head())"
   ]
  },
  {
   "cell_type": "code",
   "execution_count": 102,
   "id": "3855eb72",
   "metadata": {},
   "outputs": [
    {
     "data": {
      "text/html": [
       "<div>\n",
       "<style scoped>\n",
       "    .dataframe tbody tr th:only-of-type {\n",
       "        vertical-align: middle;\n",
       "    }\n",
       "\n",
       "    .dataframe tbody tr th {\n",
       "        vertical-align: top;\n",
       "    }\n",
       "\n",
       "    .dataframe thead th {\n",
       "        text-align: right;\n",
       "    }\n",
       "</style>\n",
       "<table border=\"1\" class=\"dataframe\">\n",
       "  <thead>\n",
       "    <tr style=\"text-align: right;\">\n",
       "      <th></th>\n",
       "      <th>Applicant_Income</th>\n",
       "      <th>Coapplicant_Income</th>\n",
       "      <th>Amount_Requested</th>\n",
       "      <th>Term</th>\n",
       "      <th>Credit_History</th>\n",
       "    </tr>\n",
       "  </thead>\n",
       "  <tbody>\n",
       "    <tr>\n",
       "      <th>count</th>\n",
       "      <td>610.000000</td>\n",
       "      <td>610.000000</td>\n",
       "      <td>592.000000</td>\n",
       "      <td>596.000000</td>\n",
       "      <td>560.000000</td>\n",
       "    </tr>\n",
       "    <tr>\n",
       "      <th>mean</th>\n",
       "      <td>5415.578689</td>\n",
       "      <td>1622.114754</td>\n",
       "      <td>146.459459</td>\n",
       "      <td>341.879195</td>\n",
       "      <td>0.841071</td>\n",
       "    </tr>\n",
       "    <tr>\n",
       "      <th>std</th>\n",
       "      <td>6126.143268</td>\n",
       "      <td>2935.113192</td>\n",
       "      <td>85.597858</td>\n",
       "      <td>65.322153</td>\n",
       "      <td>0.365936</td>\n",
       "    </tr>\n",
       "    <tr>\n",
       "      <th>min</th>\n",
       "      <td>147.000000</td>\n",
       "      <td>0.000000</td>\n",
       "      <td>9.000000</td>\n",
       "      <td>12.000000</td>\n",
       "      <td>0.000000</td>\n",
       "    </tr>\n",
       "    <tr>\n",
       "      <th>25%</th>\n",
       "      <td>2882.750000</td>\n",
       "      <td>0.000000</td>\n",
       "      <td>101.000000</td>\n",
       "      <td>360.000000</td>\n",
       "      <td>1.000000</td>\n",
       "    </tr>\n",
       "    <tr>\n",
       "      <th>50%</th>\n",
       "      <td>3813.000000</td>\n",
       "      <td>1150.000000</td>\n",
       "      <td>127.500000</td>\n",
       "      <td>360.000000</td>\n",
       "      <td>1.000000</td>\n",
       "    </tr>\n",
       "    <tr>\n",
       "      <th>75%</th>\n",
       "      <td>5793.750000</td>\n",
       "      <td>2299.500000</td>\n",
       "      <td>167.500000</td>\n",
       "      <td>360.000000</td>\n",
       "      <td>1.000000</td>\n",
       "    </tr>\n",
       "    <tr>\n",
       "      <th>max</th>\n",
       "      <td>81000.000000</td>\n",
       "      <td>41667.000000</td>\n",
       "      <td>700.000000</td>\n",
       "      <td>480.000000</td>\n",
       "      <td>1.000000</td>\n",
       "    </tr>\n",
       "  </tbody>\n",
       "</table>\n",
       "</div>"
      ],
      "text/plain": [
       "       Applicant_Income  Coapplicant_Income  Amount_Requested        Term  \\\n",
       "count        610.000000          610.000000        592.000000  596.000000   \n",
       "mean        5415.578689         1622.114754        146.459459  341.879195   \n",
       "std         6126.143268         2935.113192         85.597858   65.322153   \n",
       "min          147.000000            0.000000          9.000000   12.000000   \n",
       "25%         2882.750000            0.000000        101.000000  360.000000   \n",
       "50%         3813.000000         1150.000000        127.500000  360.000000   \n",
       "75%         5793.750000         2299.500000        167.500000  360.000000   \n",
       "max        81000.000000        41667.000000        700.000000  480.000000   \n",
       "\n",
       "       Credit_History  \n",
       "count      560.000000  \n",
       "mean         0.841071  \n",
       "std          0.365936  \n",
       "min          0.000000  \n",
       "25%          1.000000  \n",
       "50%          1.000000  \n",
       "75%          1.000000  \n",
       "max          1.000000  "
      ]
     },
     "execution_count": 102,
     "metadata": {},
     "output_type": "execute_result"
    }
   ],
   "source": [
    "df.describe()"
   ]
  },
  {
   "cell_type": "markdown",
   "id": "b56d4490",
   "metadata": {},
   "source": [
    "# Step 2: Exploratory Data Analysis (EDA)"
   ]
  },
  {
   "cell_type": "code",
   "execution_count": 103,
   "id": "b41860de",
   "metadata": {},
   "outputs": [
    {
     "name": "stdout",
     "output_type": "stream",
     "text": [
      "<class 'pandas.core.frame.DataFrame'>\n",
      "RangeIndex: 610 entries, 0 to 609\n",
      "Data columns (total 13 columns):\n",
      " #   Column                Non-Null Count  Dtype  \n",
      "---  ------                --------------  -----  \n",
      " 0   Loan_ID               610 non-null    object \n",
      " 1   Gender                597 non-null    object \n",
      " 2   Marital_Status        607 non-null    object \n",
      " 3   Number_of_Dependents  595 non-null    object \n",
      " 4   Education_Level       610 non-null    object \n",
      " 5   Independent_Worker    578 non-null    object \n",
      " 6   Applicant_Income      610 non-null    int64  \n",
      " 7   Coapplicant_Income    610 non-null    int64  \n",
      " 8   Location              610 non-null    object \n",
      " 9   Amount_Requested      592 non-null    float64\n",
      " 10  Term                  596 non-null    float64\n",
      " 11  Credit_History        560 non-null    float64\n",
      " 12  Approval_Status       610 non-null    object \n",
      "dtypes: float64(3), int64(2), object(8)\n",
      "memory usage: 62.1+ KB\n"
     ]
    }
   ],
   "source": [
    "df.info()"
   ]
  },
  {
   "cell_type": "code",
   "execution_count": 104,
   "id": "2e585691",
   "metadata": {},
   "outputs": [
    {
     "data": {
      "text/plain": [
       "Loan_ID  Gender  Marital_Status  Number_of_Dependents  Education_Level  Independent_Worker  Applicant_Income  Coapplicant_Income  Location   Amount_Requested  Term   Credit_History  Approval_Status\n",
       "LP00031  Male    Yes             0                     Graduate         No                  9329              0                   Rural      189.0             180.0  1.0             Y                  1\n",
       "LP00032  Male    Yes             2                     Graduate         No                  2043              1619                Rural      102.0             360.0  1.0             Y                  1\n",
       "LP00447  Male    Yes             3+                    Graduate         No                  5247              0                   Urban      94.0              360.0  1.0             N                  1\n",
       "LP00446  Male    No              0                     Graduate         No                  3167              0                   Urban      75.0              360.0  1.0             N                  1\n",
       "LP00445  Female  No              0                     Graduate         No                  3163              0                   Semiurban  101.0             360.0  1.0             Y                  1\n",
       "                                                                                                                                                                                                        ..\n",
       "LP00224  Male    Yes             3+                    Not Graduate     No                  3172              0                   Semiurban  73.0              360.0  1.0             Y                  1\n",
       "LP00223  Male    Yes             2                     Graduate         No                  3860              0                   Semiurban  95.0              360.0  1.0             Y                  1\n",
       "LP00222  Male    Yes             0                     Graduate         No                  2663              4303                Rural      122.0             360.0  1.0             Y                  1\n",
       "LP00220  Male    Yes             1                     Graduate         No                  4284              2996                Rural      173.0             84.0   1.0             N                  1\n",
       "LP00640  Male    Yes             2                     Not Graduate     No                  2278              0                   Rural      113.0             360.0  1.0             N                  1\n",
       "Length: 480, dtype: int64"
      ]
     },
     "execution_count": 104,
     "metadata": {},
     "output_type": "execute_result"
    }
   ],
   "source": [
    "df.value_counts()"
   ]
  },
  {
   "cell_type": "code",
   "execution_count": 105,
   "id": "ac61ad11",
   "metadata": {},
   "outputs": [
    {
     "data": {
      "text/plain": [
       "Index(['Loan_ID', 'Gender', 'Marital_Status', 'Number_of_Dependents',\n",
       "       'Education_Level', 'Independent_Worker', 'Applicant_Income',\n",
       "       'Coapplicant_Income', 'Location', 'Amount_Requested', 'Term',\n",
       "       'Credit_History', 'Approval_Status'],\n",
       "      dtype='object')"
      ]
     },
     "execution_count": 105,
     "metadata": {},
     "output_type": "execute_result"
    }
   ],
   "source": [
    "df.columns"
   ]
  },
  {
   "cell_type": "markdown",
   "id": "88d83fb1",
   "metadata": {},
   "source": [
    "# Step 3: Data Cleaning and handling missing values"
   ]
  },
  {
   "cell_type": "code",
   "execution_count": 106,
   "id": "83d4bb68",
   "metadata": {},
   "outputs": [
    {
     "data": {
      "text/plain": [
       "Loan_ID                  0\n",
       "Gender                  13\n",
       "Marital_Status           3\n",
       "Number_of_Dependents    15\n",
       "Education_Level          0\n",
       "Independent_Worker      32\n",
       "Applicant_Income         0\n",
       "Coapplicant_Income       0\n",
       "Location                 0\n",
       "Amount_Requested        18\n",
       "Term                    14\n",
       "Credit_History          50\n",
       "Approval_Status          0\n",
       "dtype: int64"
      ]
     },
     "execution_count": 106,
     "metadata": {},
     "output_type": "execute_result"
    }
   ],
   "source": [
    "df.isna().sum()"
   ]
  },
  {
   "cell_type": "code",
   "execution_count": 107,
   "id": "97b6f068",
   "metadata": {},
   "outputs": [
    {
     "name": "stdout",
     "output_type": "stream",
     "text": [
      "Loan_ID                 0\n",
      "Gender                  0\n",
      "Marital_Status          0\n",
      "Number_of_Dependents    0\n",
      "Education_Level         0\n",
      "Independent_Worker      0\n",
      "Applicant_Income        0\n",
      "Coapplicant_Income      0\n",
      "Location                0\n",
      "Amount_Requested        0\n",
      "Term                    0\n",
      "Credit_History          0\n",
      "Approval_Status         0\n",
      "dtype: int64\n"
     ]
    }
   ],
   "source": [
    "# Fill missing values for categorical columns using the mode\n",
    "\n",
    "categorical_columns = ['Gender', 'Marital_Status', 'Education_Level', 'Independent_Worker', 'Location', 'Credit_History']\n",
    "for column in categorical_columns:\n",
    "    df[column] = df[column].fillna(df[column].mode()[0])\n",
    "\n",
    "# For 'Number_of_Dependents', which might be numerical but likely represents categories (like 0, 1, 2, etc.), we'll use mode\n",
    "df['Number_of_Dependents'] = df['Number_of_Dependents'].fillna(df['Number_of_Dependents'].mode()[0])\n",
    "\n",
    "# Fill missing values for numerical columns using the median\n",
    "numerical_columns = ['Applicant_Income', 'Coapplicant_Income', 'Amount_Requested', 'Term']\n",
    "for column in numerical_columns:\n",
    "    df[column] = df[column].fillna(df[column].median())\n",
    "\n",
    "# After handling missing values, ensure no more missing values exist\n",
    "missing_values_check = df.isnull().sum()\n",
    "print(missing_values_check)"
   ]
  },
  {
   "cell_type": "markdown",
   "id": "c1560c9f",
   "metadata": {},
   "source": [
    "#  Correlation Analysis:"
   ]
  },
  {
   "cell_type": "code",
   "execution_count": 108,
   "id": "f9d8b7b9",
   "metadata": {},
   "outputs": [
    {
     "data": {
      "image/png": "[encoded data removed]",
      "text/plain": [
       "<Figure size 1000x800 with 2 Axes>"
      ]
     },
     "metadata": {},
     "output_type": "display_data"
    }
   ],
   "source": [
    "# Correlation matrix heatmap\n",
    "correlation_matrix = df[numerical_columns].corr()\n",
    "plt.figure(figsize=(10, 8))\n",
    "sns.heatmap(correlation_matrix, annot=True, fmt=\".2f\", cmap='coolwarm', cbar=True)\n",
    "plt.title('Correlation Matrix of Numerical Variables')\n",
    "plt.show()"
   ]
  },
  {
   "cell_type": "markdown",
   "id": "d7d3236a",
   "metadata": {},
   "source": [
    "#### coverting string values into numerical values"
   ]
  },
  {
   "cell_type": "markdown",
   "id": "c493ca08",
   "metadata": {},
   "source": [
    "### Part A: Supervised Learning and Analytics"
   ]
  },
  {
   "cell_type": "markdown",
   "id": "614f0697",
   "metadata": {},
   "source": [
    "#### Incorporation of Naive Bayes and SVM:\n",
    "\n",
    "#### Data Preparation"
   ]
  },
  {
   "cell_type": "code",
   "execution_count": 109,
   "id": "f53cc7ad",
   "metadata": {},
   "outputs": [
    {
     "data": {
      "text/plain": [
       "((488, 12), (122, 12), (488,), (122,))"
      ]
     },
     "execution_count": 109,
     "metadata": {},
     "output_type": "execute_result"
    }
   ],
   "source": [
    "import pandas as pd\n",
    "import numpy as np\n",
    "from sklearn.model_selection import train_test_split\n",
    "from sklearn.preprocessing import StandardScaler\n",
    "from sklearn.metrics import accuracy_score, precision_score, recall_score, f1_score\n",
    "from sklearn.preprocessing import OneHotEncoder\n",
    "from sklearn.compose import ColumnTransformer\n",
    "\n",
    "\n",
    "# features \n",
    "X = df.drop(['Loan_ID', 'Approval_Status', 'Applicant_Income', 'Amount_Requested'], axis=1)  # Dropping non-transformed variables\n",
    "\n",
    "\n",
    "# target variable\n",
    "y = df['Approval_Status'].map({'Y': 1, 'N': 0})  # Encoding target variable\n",
    "\n",
    "\n",
    "# One-hot encoding categorical variables\n",
    "X_encoded = pd.get_dummies(X, drop_first=True)\n",
    "\n",
    "# Splitting the data into training and testing sets\n",
    "X_train, X_test, y_train, y_test = train_test_split(X_encoded, y, test_size=0.2, random_state=42)\n",
    "\n",
    "# Displaying the shapes of the training and testing sets to ensure they are split correctly\n",
    "X_train.shape, X_test.shape, y_train.shape, y_test.shape\n"
   ]
  },
  {
   "cell_type": "markdown",
   "id": "db22fdba",
   "metadata": {},
   "source": [
    "#### Standardize features"
   ]
  },
  {
   "cell_type": "code",
   "execution_count": 110,
   "id": "868768b9",
   "metadata": {},
   "outputs": [],
   "source": [
    "scaler = StandardScaler()\n",
    "X_train = scaler.fit_transform(X_train)\n",
    "X_test = scaler.transform(X_test)"
   ]
  },
  {
   "cell_type": "markdown",
   "id": "1d8c4334",
   "metadata": {},
   "source": [
    "#### Now  we'll train the models and evaluate their performance."
   ]
  },
  {
   "cell_type": "code",
   "execution_count": 111,
   "id": "3010ee9e",
   "metadata": {},
   "outputs": [
    {
     "name": "stdout",
     "output_type": "stream",
     "text": [
      "                      Accuracy  Precision    Recall  F1-Score\n",
      "Gaussian Naive Bayes  0.811475   0.787037  1.000000  0.880829\n",
      "SVM                   0.803279   0.779817  1.000000  0.876289\n",
      "Logistic Regression   0.803279   0.779817  1.000000  0.876289\n",
      "Decision Tree         0.696721   0.772727  0.800000  0.786127\n",
      "Random Forest         0.795082   0.794118  0.952941  0.866310\n",
      "K-NN                  0.795082   0.772727  1.000000  0.871795\n"
     ]
    }
   ],
   "source": [
    "from sklearn.naive_bayes import GaussianNB\n",
    "from sklearn.svm import SVC\n",
    "from sklearn.linear_model import LogisticRegression\n",
    "from sklearn.tree import DecisionTreeClassifier\n",
    "from sklearn.ensemble import RandomForestClassifier\n",
    "from sklearn.neighbors import KNeighborsClassifier\n",
    "\n",
    "# Initialize models\n",
    "models = {\n",
    "    'Gaussian Naive Bayes': GaussianNB(),\n",
    "    'SVM': SVC(),\n",
    "    'Logistic Regression': LogisticRegression(),\n",
    "    'Decision Tree': DecisionTreeClassifier(),\n",
    "    'Random Forest': RandomForestClassifier(),\n",
    "    'K-NN': KNeighborsClassifier()\n",
    "}\n",
    "\n",
    "# Train and evaluate models\n",
    "results = {}\n",
    "\n",
    "for model_name, model in models.items():\n",
    "    model.fit(X_train, y_train)\n",
    "    y_pred = model.predict(X_test)\n",
    "    \n",
    "    accuracy = accuracy_score(y_test, y_pred)\n",
    "    precision = precision_score(y_test, y_pred)\n",
    "    recall = recall_score(y_test, y_pred)\n",
    "    f1 = f1_score(y_test, y_pred)\n",
    "    \n",
    "    results[model_name] = {\n",
    "        'Accuracy': accuracy,\n",
    "        'Precision': precision,\n",
    "        'Recall': recall,\n",
    "        'F1-Score': f1\n",
    "    }\n",
    "\n",
    "# Display results\n",
    "results_df = pd.DataFrame(results).T\n",
    "print(results_df)"
   ]
  },
  {
   "cell_type": "markdown",
   "id": "b8c28a47",
   "metadata": {},
   "source": [
    "#### Hyperparameter Tuning for SVM"
   ]
  },
  {
   "cell_type": "code",
   "execution_count": 112,
   "id": "5497e5c8",
   "metadata": {},
   "outputs": [
    {
     "name": "stdout",
     "output_type": "stream",
     "text": [
      "Fitting 5 folds for each of 32 candidates, totalling 160 fits\n",
      "[CV] END .........................C=0.1, gamma=1, kernel=rbf; total time=   0.0s\n",
      "[CV] END .........................C=0.1, gamma=1, kernel=rbf; total time=   0.0s\n",
      "[CV] END .........................C=0.1, gamma=1, kernel=rbf; total time=   0.0s\n",
      "[CV] END .........................C=0.1, gamma=1, kernel=rbf; total time=   0.0s\n",
      "[CV] END .........................C=0.1, gamma=1, kernel=rbf; total time=   0.0s\n",
      "[CV] END ......................C=0.1, gamma=1, kernel=linear; total time=   0.0s\n",
      "[CV] END ......................C=0.1, gamma=1, kernel=linear; total time=   0.0s\n",
      "[CV] END ......................C=0.1, gamma=1, kernel=linear; total time=   0.0s\n",
      "[CV] END ......................C=0.1, gamma=1, kernel=linear; total time=   0.0s\n",
      "[CV] END ......................C=0.1, gamma=1, kernel=linear; total time=   0.0s\n",
      "[CV] END .......................C=0.1, gamma=0.1, kernel=rbf; total time=   0.0s\n",
      "[CV] END .......................C=0.1, gamma=0.1, kernel=rbf; total time=   0.0s\n",
      "[CV] END .......................C=0.1, gamma=0.1, kernel=rbf; total time=   0.0s\n",
      "[CV] END .......................C=0.1, gamma=0.1, kernel=rbf; total time=   0.0s\n",
      "[CV] END .......................C=0.1, gamma=0.1, kernel=rbf; total time=   0.0s\n",
      "[CV] END ....................C=0.1, gamma=0.1, kernel=linear; total time=   0.0s\n",
      "[CV] END ....................C=0.1, gamma=0.1, kernel=linear; total time=   0.0s\n",
      "[CV] END ....................C=0.1, gamma=0.1, kernel=linear; total time=   0.0s\n",
      "[CV] END ....................C=0.1, gamma=0.1, kernel=linear; total time=   0.0s\n",
      "[CV] END ....................C=0.1, gamma=0.1, kernel=linear; total time=   0.0s\n",
      "[CV] END ......................C=0.1, gamma=0.01, kernel=rbf; total time=   0.0s\n",
      "[CV] END ......................C=0.1, gamma=0.01, kernel=rbf; total time=   0.0s\n",
      "[CV] END ......................C=0.1, gamma=0.01, kernel=rbf; total time=   0.0s\n",
      "[CV] END ......................C=0.1, gamma=0.01, kernel=rbf; total time=   0.0s\n",
      "[CV] END ......................C=0.1, gamma=0.01, kernel=rbf; total time=   0.0s\n",
      "[CV] END ...................C=0.1, gamma=0.01, kernel=linear; total time=   0.0s\n",
      "[CV] END ...................C=0.1, gamma=0.01, kernel=linear; total time=   0.0s\n",
      "[CV] END ...................C=0.1, gamma=0.01, kernel=linear; total time=   0.0s\n",
      "[CV] END ...................C=0.1, gamma=0.01, kernel=linear; total time=   0.0s\n",
      "[CV] END ...................C=0.1, gamma=0.01, kernel=linear; total time=   0.0s\n",
      "[CV] END .....................C=0.1, gamma=0.001, kernel=rbf; total time=   0.0s\n",
      "[CV] END .....................C=0.1, gamma=0.001, kernel=rbf; total time=   0.0s\n",
      "[CV] END .....................C=0.1, gamma=0.001, kernel=rbf; total time=   0.0s\n",
      "[CV] END .....................C=0.1, gamma=0.001, kernel=rbf; total time=   0.0s\n",
      "[CV] END .....................C=0.1, gamma=0.001, kernel=rbf; total time=   0.0s\n",
      "[CV] END ..................C=0.1, gamma=0.001, kernel=linear; total time=   0.0s\n",
      "[CV] END ..................C=0.1, gamma=0.001, kernel=linear; total time=   0.0s\n",
      "[CV] END ..................C=0.1, gamma=0.001, kernel=linear; total time=   0.0s\n",
      "[CV] END ..................C=0.1, gamma=0.001, kernel=linear; total time=   0.0s\n",
      "[CV] END ..................C=0.1, gamma=0.001, kernel=linear; total time=   0.0s\n",
      "[CV] END ...........................C=1, gamma=1, kernel=rbf; total time=   0.0s\n",
      "[CV] END ...........................C=1, gamma=1, kernel=rbf; total time=   0.0s\n",
      "[CV] END ...........................C=1, gamma=1, kernel=rbf; total time=   0.0s\n",
      "[CV] END ...........................C=1, gamma=1, kernel=rbf; total time=   0.0s\n",
      "[CV] END ...........................C=1, gamma=1, kernel=rbf; total time=   0.0s\n",
      "[CV] END ........................C=1, gamma=1, kernel=linear; total time=   0.0s\n",
      "[CV] END ........................C=1, gamma=1, kernel=linear; total time=   0.0s\n",
      "[CV] END ........................C=1, gamma=1, kernel=linear; total time=   0.0s\n",
      "[CV] END ........................C=1, gamma=1, kernel=linear; total time=   0.0s\n",
      "[CV] END ........................C=1, gamma=1, kernel=linear; total time=   0.0s\n",
      "[CV] END .........................C=1, gamma=0.1, kernel=rbf; total time=   0.0s\n",
      "[CV] END .........................C=1, gamma=0.1, kernel=rbf; total time=   0.0s\n",
      "[CV] END .........................C=1, gamma=0.1, kernel=rbf; total time=   0.0s\n",
      "[CV] END .........................C=1, gamma=0.1, kernel=rbf; total time=   0.0s\n",
      "[CV] END .........................C=1, gamma=0.1, kernel=rbf; total time=   0.0s\n",
      "[CV] END ......................C=1, gamma=0.1, kernel=linear; total time=   0.0s\n",
      "[CV] END ......................C=1, gamma=0.1, kernel=linear; total time=   0.0s\n",
      "[CV] END ......................C=1, gamma=0.1, kernel=linear; total time=   0.0s\n",
      "[CV] END ......................C=1, gamma=0.1, kernel=linear; total time=   0.0s\n",
      "[CV] END ......................C=1, gamma=0.1, kernel=linear; total time=   0.0s\n",
      "[CV] END ........................C=1, gamma=0.01, kernel=rbf; total time=   0.0s\n",
      "[CV] END ........................C=1, gamma=0.01, kernel=rbf; total time=   0.0s\n",
      "[CV] END ........................C=1, gamma=0.01, kernel=rbf; total time=   0.0s\n",
      "[CV] END ........................C=1, gamma=0.01, kernel=rbf; total time=   0.0s\n",
      "[CV] END ........................C=1, gamma=0.01, kernel=rbf; total time=   0.0s\n",
      "[CV] END .....................C=1, gamma=0.01, kernel=linear; total time=   0.0s\n",
      "[CV] END .....................C=1, gamma=0.01, kernel=linear; total time=   0.0s\n",
      "[CV] END .....................C=1, gamma=0.01, kernel=linear; total time=   0.0s\n",
      "[CV] END .....................C=1, gamma=0.01, kernel=linear; total time=   0.0s\n",
      "[CV] END .....................C=1, gamma=0.01, kernel=linear; total time=   0.0s\n",
      "[CV] END .......................C=1, gamma=0.001, kernel=rbf; total time=   0.0s\n",
      "[CV] END .......................C=1, gamma=0.001, kernel=rbf; total time=   0.0s\n",
      "[CV] END .......................C=1, gamma=0.001, kernel=rbf; total time=   0.0s\n",
      "[CV] END .......................C=1, gamma=0.001, kernel=rbf; total time=   0.0s\n",
      "[CV] END .......................C=1, gamma=0.001, kernel=rbf; total time=   0.0s\n",
      "[CV] END ....................C=1, gamma=0.001, kernel=linear; total time=   0.0s\n",
      "[CV] END ....................C=1, gamma=0.001, kernel=linear; total time=   0.0s\n",
      "[CV] END ....................C=1, gamma=0.001, kernel=linear; total time=   0.0s\n",
      "[CV] END ....................C=1, gamma=0.001, kernel=linear; total time=   0.0s\n",
      "[CV] END ....................C=1, gamma=0.001, kernel=linear; total time=   0.0s\n",
      "[CV] END ..........................C=10, gamma=1, kernel=rbf; total time=   0.0s\n",
      "[CV] END ..........................C=10, gamma=1, kernel=rbf; total time=   0.0s\n",
      "[CV] END ..........................C=10, gamma=1, kernel=rbf; total time=   0.0s\n",
      "[CV] END ..........................C=10, gamma=1, kernel=rbf; total time=   0.0s\n",
      "[CV] END ..........................C=10, gamma=1, kernel=rbf; total time=   0.0s\n",
      "[CV] END .......................C=10, gamma=1, kernel=linear; total time=   0.0s\n",
      "[CV] END .......................C=10, gamma=1, kernel=linear; total time=   0.0s\n",
      "[CV] END .......................C=10, gamma=1, kernel=linear; total time=   0.0s\n",
      "[CV] END .......................C=10, gamma=1, kernel=linear; total time=   0.0s\n",
      "[CV] END .......................C=10, gamma=1, kernel=linear; total time=   0.0s\n",
      "[CV] END ........................C=10, gamma=0.1, kernel=rbf; total time=   0.0s\n",
      "[CV] END ........................C=10, gamma=0.1, kernel=rbf; total time=   0.0s\n",
      "[CV] END ........................C=10, gamma=0.1, kernel=rbf; total time=   0.0s\n",
      "[CV] END ........................C=10, gamma=0.1, kernel=rbf; total time=   0.0s\n",
      "[CV] END ........................C=10, gamma=0.1, kernel=rbf; total time=   0.0s\n",
      "[CV] END .....................C=10, gamma=0.1, kernel=linear; total time=   0.0s\n",
      "[CV] END .....................C=10, gamma=0.1, kernel=linear; total time=   0.0s\n",
      "[CV] END .....................C=10, gamma=0.1, kernel=linear; total time=   0.0s\n",
      "[CV] END .....................C=10, gamma=0.1, kernel=linear; total time=   0.0s\n",
      "[CV] END .....................C=10, gamma=0.1, kernel=linear; total time=   0.0s\n",
      "[CV] END .......................C=10, gamma=0.01, kernel=rbf; total time=   0.0s\n",
      "[CV] END .......................C=10, gamma=0.01, kernel=rbf; total time=   0.0s\n",
      "[CV] END .......................C=10, gamma=0.01, kernel=rbf; total time=   0.0s\n",
      "[CV] END .......................C=10, gamma=0.01, kernel=rbf; total time=   0.0s\n",
      "[CV] END .......................C=10, gamma=0.01, kernel=rbf; total time=   0.0s\n",
      "[CV] END ....................C=10, gamma=0.01, kernel=linear; total time=   0.0s\n",
      "[CV] END ....................C=10, gamma=0.01, kernel=linear; total time=   0.0s\n",
      "[CV] END ....................C=10, gamma=0.01, kernel=linear; total time=   0.0s\n"
     ]
    },
    {
     "name": "stdout",
     "output_type": "stream",
     "text": [
      "[CV] END ....................C=10, gamma=0.01, kernel=linear; total time=   0.0s\n",
      "[CV] END ....................C=10, gamma=0.01, kernel=linear; total time=   0.0s\n",
      "[CV] END ......................C=10, gamma=0.001, kernel=rbf; total time=   0.0s\n",
      "[CV] END ......................C=10, gamma=0.001, kernel=rbf; total time=   0.0s\n",
      "[CV] END ......................C=10, gamma=0.001, kernel=rbf; total time=   0.0s\n",
      "[CV] END ......................C=10, gamma=0.001, kernel=rbf; total time=   0.0s\n",
      "[CV] END ......................C=10, gamma=0.001, kernel=rbf; total time=   0.0s\n",
      "[CV] END ...................C=10, gamma=0.001, kernel=linear; total time=   0.0s\n",
      "[CV] END ...................C=10, gamma=0.001, kernel=linear; total time=   0.0s\n",
      "[CV] END ...................C=10, gamma=0.001, kernel=linear; total time=   0.0s\n",
      "[CV] END ...................C=10, gamma=0.001, kernel=linear; total time=   0.0s\n",
      "[CV] END ...................C=10, gamma=0.001, kernel=linear; total time=   0.0s\n",
      "[CV] END .........................C=100, gamma=1, kernel=rbf; total time=   0.0s\n",
      "[CV] END .........................C=100, gamma=1, kernel=rbf; total time=   0.0s\n",
      "[CV] END .........................C=100, gamma=1, kernel=rbf; total time=   0.0s\n",
      "[CV] END .........................C=100, gamma=1, kernel=rbf; total time=   0.0s\n",
      "[CV] END .........................C=100, gamma=1, kernel=rbf; total time=   0.0s\n",
      "[CV] END ......................C=100, gamma=1, kernel=linear; total time=   0.0s\n",
      "[CV] END ......................C=100, gamma=1, kernel=linear; total time=   0.0s\n",
      "[CV] END ......................C=100, gamma=1, kernel=linear; total time=   0.0s\n",
      "[CV] END ......................C=100, gamma=1, kernel=linear; total time=   0.0s\n",
      "[CV] END ......................C=100, gamma=1, kernel=linear; total time=   0.0s\n",
      "[CV] END .......................C=100, gamma=0.1, kernel=rbf; total time=   0.0s\n",
      "[CV] END .......................C=100, gamma=0.1, kernel=rbf; total time=   0.0s\n",
      "[CV] END .......................C=100, gamma=0.1, kernel=rbf; total time=   0.0s\n",
      "[CV] END .......................C=100, gamma=0.1, kernel=rbf; total time=   0.0s\n",
      "[CV] END .......................C=100, gamma=0.1, kernel=rbf; total time=   0.0s\n",
      "[CV] END ....................C=100, gamma=0.1, kernel=linear; total time=   0.0s\n",
      "[CV] END ....................C=100, gamma=0.1, kernel=linear; total time=   0.0s\n",
      "[CV] END ....................C=100, gamma=0.1, kernel=linear; total time=   0.0s\n",
      "[CV] END ....................C=100, gamma=0.1, kernel=linear; total time=   0.0s\n",
      "[CV] END ....................C=100, gamma=0.1, kernel=linear; total time=   0.0s\n",
      "[CV] END ......................C=100, gamma=0.01, kernel=rbf; total time=   0.0s\n",
      "[CV] END ......................C=100, gamma=0.01, kernel=rbf; total time=   0.0s\n",
      "[CV] END ......................C=100, gamma=0.01, kernel=rbf; total time=   0.0s\n",
      "[CV] END ......................C=100, gamma=0.01, kernel=rbf; total time=   0.0s\n",
      "[CV] END ......................C=100, gamma=0.01, kernel=rbf; total time=   0.0s\n",
      "[CV] END ...................C=100, gamma=0.01, kernel=linear; total time=   0.0s\n",
      "[CV] END ...................C=100, gamma=0.01, kernel=linear; total time=   0.0s\n",
      "[CV] END ...................C=100, gamma=0.01, kernel=linear; total time=   0.0s\n",
      "[CV] END ...................C=100, gamma=0.01, kernel=linear; total time=   0.0s\n",
      "[CV] END ...................C=100, gamma=0.01, kernel=linear; total time=   0.0s\n",
      "[CV] END .....................C=100, gamma=0.001, kernel=rbf; total time=   0.0s\n",
      "[CV] END .....................C=100, gamma=0.001, kernel=rbf; total time=   0.0s\n",
      "[CV] END .....................C=100, gamma=0.001, kernel=rbf; total time=   0.0s\n",
      "[CV] END .....................C=100, gamma=0.001, kernel=rbf; total time=   0.0s\n",
      "[CV] END .....................C=100, gamma=0.001, kernel=rbf; total time=   0.0s\n",
      "[CV] END ..................C=100, gamma=0.001, kernel=linear; total time=   0.0s\n",
      "[CV] END ..................C=100, gamma=0.001, kernel=linear; total time=   0.0s\n",
      "[CV] END ..................C=100, gamma=0.001, kernel=linear; total time=   0.0s\n",
      "[CV] END ..................C=100, gamma=0.001, kernel=linear; total time=   0.0s\n",
      "[CV] END ..................C=100, gamma=0.001, kernel=linear; total time=   0.0s\n",
      "Best Parameters: {'C': 0.1, 'gamma': 1, 'kernel': 'linear'}\n",
      "Best SVM Performance:\n",
      "Accuracy: 0.8032786885245902\n",
      "Precision: 0.7798165137614679\n",
      "Recall: 1.0\n",
      "F1-Score: 0.8762886597938144\n"
     ]
    }
   ],
   "source": [
    "from sklearn.model_selection import GridSearchCV\n",
    "\n",
    "# parameter grid\n",
    "param_grid = {\n",
    "    'C': [0.1, 1, 10, 100],\n",
    "    'gamma': [1, 0.1, 0.01, 0.001],\n",
    "    'kernel': ['rbf', 'linear']\n",
    "}\n",
    "\n",
    "# Grid Search Initialization\n",
    "grid = GridSearchCV(SVC(), param_grid, refit=True, verbose=2, cv=5)\n",
    "grid.fit(X_train, y_train)\n",
    "\n",
    "# best parameters\n",
    "print(\"Best Parameters:\", grid.best_params_)\n",
    "\n",
    "# Evaluate the best model\n",
    "best_svm = grid.best_estimator_\n",
    "y_pred_best_svm = best_svm.predict(X_test)\n",
    "\n",
    "accuracy = accuracy_score(y_test, y_pred_best_svm)\n",
    "precision = precision_score(y_test, y_pred_best_svm)\n",
    "recall = recall_score(y_test, y_pred_best_svm)\n",
    "f1 = f1_score(y_test, y_pred_best_svm)\n",
    "\n",
    "print(\"Best SVM Performance:\")\n",
    "print(f\"Accuracy: {accuracy}\")\n",
    "print(f\"Precision: {precision}\")\n",
    "print(f\"Recall: {recall}\")\n",
    "print(f\"F1-Score: {f1}\")"
   ]
  },
  {
   "cell_type": "markdown",
   "id": "22dbcb22",
   "metadata": {},
   "source": [
    "### 2. Feature Engineering"
   ]
  },
  {
   "cell_type": "markdown",
   "id": "ead8656a",
   "metadata": {},
   "source": [
    "#### Interaction Features and Polynomial Features"
   ]
  },
  {
   "cell_type": "code",
   "execution_count": 113,
   "id": "5be4f8da",
   "metadata": {},
   "outputs": [
    {
     "name": "stdout",
     "output_type": "stream",
     "text": [
      "Polynomial Features Performance:\n",
      "Accuracy: 0.7786885245901639\n",
      "Precision: 0.7843137254901961\n",
      "Recall: 0.9411764705882353\n",
      "F1-Score: 0.8556149732620321\n"
     ]
    }
   ],
   "source": [
    "from sklearn.preprocessing import PolynomialFeatures\n",
    "\n",
    "# polynomial features\n",
    "poly = PolynomialFeatures(degree=2, interaction_only=True, include_bias=False)\n",
    "X_train_poly = poly.fit_transform(X_train)\n",
    "X_test_poly = poly.transform(X_test)\n",
    "\n",
    "# train a model on polynomial features to see if performance improves\n",
    "lr_poly = LogisticRegression()\n",
    "lr_poly.fit(X_train_poly, y_train)\n",
    "y_pred_poly = lr_poly.predict(X_test_poly)\n",
    "\n",
    "accuracy_poly = accuracy_score(y_test, y_pred_poly)\n",
    "precision_poly = precision_score(y_test, y_pred_poly)\n",
    "recall_poly = recall_score(y_test, y_pred_poly)\n",
    "f1_poly = f1_score(y_test, y_pred_poly)\n",
    "\n",
    "print(\"Polynomial Features Performance:\")\n",
    "print(f\"Accuracy: {accuracy_poly}\")\n",
    "print(f\"Precision: {precision_poly}\")\n",
    "print(f\"Recall: {recall_poly}\")\n",
    "print(f\"F1-Score: {f1_poly}\")\n"
   ]
  },
  {
   "cell_type": "markdown",
   "id": "32b0b343",
   "metadata": {},
   "source": [
    "### PCA for Dimensionality Reduction"
   ]
  },
  {
   "cell_type": "code",
   "execution_count": 114,
   "id": "972ceb2e",
   "metadata": {},
   "outputs": [
    {
     "name": "stdout",
     "output_type": "stream",
     "text": [
      "PCA Features Performance:\n",
      "Accuracy: 0.7950819672131147\n",
      "Precision: 0.7777777777777778\n",
      "Recall: 0.9882352941176471\n",
      "F1-Score: 0.8704663212435234\n"
     ]
    }
   ],
   "source": [
    "from sklearn.decomposition import PCA\n",
    "\n",
    "# PCA application\n",
    "pca = PCA(n_components=0.95)  # Keep 95% of variance\n",
    "X_train_pca = pca.fit_transform(X_train)\n",
    "X_test_pca = pca.transform(X_test)\n",
    "\n",
    "# Train and evaluation of model\n",
    "lr_pca = LogisticRegression()\n",
    "lr_pca.fit(X_train_pca, y_train)\n",
    "y_pred_pca = lr_pca.predict(X_test_pca)\n",
    "\n",
    "accuracy_pca = accuracy_score(y_test, y_pred_pca)\n",
    "precision_pca = precision_score(y_test, y_pred_pca)\n",
    "recall_pca = recall_score(y_test, y_pred_pca)\n",
    "f1_pca = f1_score(y_test, y_pred_pca)\n",
    "\n",
    "print(\"PCA Features Performance:\")\n",
    "print(f\"Accuracy: {accuracy_pca}\")\n",
    "print(f\"Precision: {precision_pca}\")\n",
    "print(f\"Recall: {recall_pca}\")\n",
    "print(f\"F1-Score: {f1_pca}\")"
   ]
  },
  {
   "cell_type": "markdown",
   "id": "8e7d4adb",
   "metadata": {},
   "source": [
    "### 3. Fair Analysis"
   ]
  },
  {
   "cell_type": "code",
   "execution_count": 115,
   "id": "ccc06fb7",
   "metadata": {},
   "outputs": [
    {
     "data": {
      "image/png": "[encoded data removed]",
      "text/plain": [
       "<Figure size 640x480 with 1 Axes>"
      ]
     },
     "metadata": {},
     "output_type": "display_data"
    },
    {
     "name": "stdout",
     "output_type": "stream",
     "text": [
      "Disparate Impact Ratio (DIR) for Gender: 0.9722511453561016\n"
     ]
    }
   ],
   "source": [
    "import matplotlib.pyplot as plt\n",
    "import seaborn as sns\n",
    "\n",
    "# Gender distribution in loan approvals\n",
    "gender_loan_distribution = df.groupby(['Gender', 'Approval_Status']).size().unstack()\n",
    "gender_loan_distribution.plot(kind='bar', stacked=True)\n",
    "plt.title('Loan Status by Gender')\n",
    "plt.xlabel('Gender')\n",
    "plt.ylabel('Count')\n",
    "plt.show()\n",
    "\n",
    "# Fairness metrics: Disparate Impact Ratio (DIR)\n",
    "approved_male = len(df[(df['Gender'] == 'Male') & (df['Approval_Status'] == 'Y')])\n",
    "approved_female = len(df[(df['Gender'] == 'Female') & (df['Approval_Status'] == 'Y')])\n",
    "applicants_male = len(df[df['Gender'] == 'Male'])\n",
    "applicants_female = len(df[df['Gender'] == 'Female'])\n",
    "\n",
    "dir_gender = (approved_female / applicants_female) / (approved_male / applicants_male)\n",
    "print(f\"Disparate Impact Ratio (DIR) for Gender: {dir_gender}\")"
   ]
  },
  {
   "cell_type": "markdown",
   "id": "429d2d5a",
   "metadata": {},
   "source": [
    "### 4. Unsupervised Learning Insights"
   ]
  },
  {
   "cell_type": "markdown",
   "id": "38f2ef02",
   "metadata": {},
   "source": [
    "### K-Means Clustering"
   ]
  },
  {
   "cell_type": "code",
   "execution_count": 116,
   "id": "447eb914",
   "metadata": {},
   "outputs": [
    {
     "name": "stderr",
     "output_type": "stream",
     "text": [
      "C:\\Users\\fr2071tu\\sample_project\\env\\lib\\site-packages\\sklearn\\cluster\\_kmeans.py:1412: FutureWarning: The default value of `n_init` will change from 10 to 'auto' in 1.4. Set the value of `n_init` explicitly to suppress the warning\n",
      "  super()._check_params_vs_input(X, default_n_init=10)\n",
      "C:\\Users\\fr2071tu\\sample_project\\env\\lib\\site-packages\\sklearn\\cluster\\_kmeans.py:1436: UserWarning: KMeans is known to have a memory leak on Windows with MKL, when there are less chunks than available threads. You can avoid it by setting the environment variable OMP_NUM_THREADS=3.\n",
      "  warnings.warn(\n"
     ]
    },
    {
     "data": {
      "image/png": "[encoded data removed]",
      "text/plain": [
       "<Figure size 640x480 with 1 Axes>"
      ]
     },
     "metadata": {},
     "output_type": "display_data"
    },
    {
     "name": "stdout",
     "output_type": "stream",
     "text": [
      "         Applicant_Income  Coapplicant_Income  Amount_Requested        Term  \\\n",
      "Cluster                                                                       \n",
      "0             5979.012195          478.560976        136.590244  343.375610   \n",
      "1             4315.091837         3458.005102        164.341837  340.591837   \n",
      "2             1587.500000        28877.750000        196.500000  315.000000   \n",
      "\n",
      "         Credit_History  \n",
      "Cluster                  \n",
      "0              0.848780  \n",
      "1              0.862245  \n",
      "2              1.000000  \n"
     ]
    },
    {
     "name": "stderr",
     "output_type": "stream",
     "text": [
      "C:\\Users\\fr2071tu\\AppData\\Local\\Temp\\ipykernel_9924\\3171867734.py:21: FutureWarning: The default value of numeric_only in DataFrameGroupBy.mean is deprecated. In a future version, numeric_only will default to False. Either specify numeric_only or select only columns which should be valid for the function.\n",
      "  cluster_analysis = df.groupby('Cluster').mean()\n"
     ]
    }
   ],
   "source": [
    "from sklearn.cluster import KMeans\n",
    "from sklearn.decomposition import PCA\n",
    "\n",
    "# PCA for visualization\n",
    "pca = PCA(n_components=2)\n",
    "X_pca = pca.fit_transform(X_encoded)\n",
    "\n",
    "# K-Means\n",
    "kmeans = KMeans(n_clusters=3, random_state=42)\n",
    "clusters = kmeans.fit_predict(X_encoded)\n",
    "\n",
    "# Visualization of clusters\n",
    "plt.scatter(X_pca[:, 0], X_pca[:, 1], c=clusters, cmap='viridis')\n",
    "plt.title('K-Means Clustering')\n",
    "plt.xlabel('PCA Component 1')\n",
    "plt.ylabel('PCA Component 2')\n",
    "plt.show()\n",
    "\n",
    "# cluster characteristics\n",
    "df['Cluster'] = clusters\n",
    "cluster_analysis = df.groupby('Cluster').mean()\n",
    "print(cluster_analysis)"
   ]
  },
  {
   "cell_type": "markdown",
   "id": "97db6ac2",
   "metadata": {},
   "source": [
    "### Hierarchical Clustering"
   ]
  },
  {
   "cell_type": "code",
   "execution_count": 117,
   "id": "e135d239",
   "metadata": {},
   "outputs": [
    {
     "data": {
      "image/png": "[encoded data removed]",
      "text/plain": [
       "<Figure size 1000x700 with 1 Axes>"
      ]
     },
     "metadata": {},
     "output_type": "display_data"
    }
   ],
   "source": [
    "from scipy.cluster.hierarchy import dendrogram, linkage\n",
    "\n",
    "# hierarchical clustering\n",
    "linked = linkage(X_encoded, method='ward')\n",
    "\n",
    "# Plot dendrogram\n",
    "plt.figure(figsize=(10, 7))\n",
    "dendrogram(linked, orientation='top', distance_sort='descending', show_leaf_counts=True)\n",
    "plt.title('Hierarchical Clustering Dendrogram')\n",
    "plt.show()"
   ]
  },
  {
   "cell_type": "markdown",
   "id": "ad9a9b45",
   "metadata": {},
   "source": [
    "### Cluster Analysis for Loan Approval Rates"
   ]
  },
  {
   "cell_type": "code",
   "execution_count": 118,
   "id": "7d5b4f0b",
   "metadata": {},
   "outputs": [
    {
     "name": "stdout",
     "output_type": "stream",
     "text": [
      "Approval_Status         N         Y\n",
      "Cluster                            \n",
      "0                0.321951  0.678049\n",
      "1                0.290816  0.709184\n",
      "2                0.750000  0.250000\n"
     ]
    }
   ],
   "source": [
    "# Loan approval rates per cluster\n",
    "cluster_loan_approval = df.groupby('Cluster')['Approval_Status'].value_counts(normalize=True).unstack()\n",
    "print(cluster_loan_approval)"
   ]
  },
  {
   "cell_type": "markdown",
   "id": "6d8d3a7f",
   "metadata": {},
   "source": [
    "### Challenges with K-Means Method\n",
    "#### 1. Selecting the Number of Clusters:\n",
    "* It's often unclear how many clusters to choose.\n",
    "* Solutions: Use the elbow method, silhouette score, or cross-validation techniques.\n",
    "\n",
    "#### 2. Cluster Shape Assumptions:\n",
    "\n",
    "* K-Means assumes spherical clusters which may not always be the case.\n",
    "* Solutions: Use more flexible clustering methods like DBSCAN or Gaussian Mixture Models."
   ]
  },
  {
   "cell_type": "markdown",
   "id": "461e118c",
   "metadata": {},
   "source": [
    "### Innovative Analytics\n",
    "#### Estimate Predictive Uncertainty"
   ]
  },
  {
   "cell_type": "code",
   "execution_count": 119,
   "id": "b176eefa",
   "metadata": {},
   "outputs": [
    {
     "name": "stdout",
     "output_type": "stream",
     "text": [
      "Sample 1 - Predicted Probability: 0.9700, Uncertainty: 0.1706\n",
      "Sample 2 - Predicted Probability: 0.9300, Uncertainty: 0.2551\n",
      "Sample 3 - Predicted Probability: 0.9800, Uncertainty: 0.1400\n",
      "Sample 4 - Predicted Probability: 0.9522, Uncertainty: 0.1559\n",
      "Sample 5 - Predicted Probability: 0.6771, Uncertainty: 0.2559\n",
      "Sample 6 - Predicted Probability: 0.6976, Uncertainty: 0.4338\n",
      "Sample 7 - Predicted Probability: 0.9601, Uncertainty: 0.1586\n",
      "Sample 8 - Predicted Probability: 0.7900, Uncertainty: 0.4073\n",
      "Sample 9 - Predicted Probability: 0.8133, Uncertainty: 0.1988\n",
      "Sample 10 - Predicted Probability: 0.8133, Uncertainty: 0.1988\n"
     ]
    }
   ],
   "source": [
    "from sklearn.ensemble import RandomForestClassifier\n",
    "import numpy as np\n",
    "\n",
    "# Train Random Forest for uncertainty estimation\n",
    "rf = RandomForestClassifier(n_estimators=100, random_state=42)\n",
    "\n",
    "\n",
    "rf.fit(X_train, y_train)\n",
    "\n",
    "# predictions and their probabilities\n",
    "y_pred_rf = rf.predict(X_test)\n",
    "y_pred_proba_rf = rf.predict_proba(X_test)[:, 1]  \n",
    "\n",
    "# uncertainty as the standard deviation of predicted probabilities from each tree\n",
    "tree_preds = np.array([tree.predict_proba(X_test)[:, 1] for tree in rf.estimators_])\n",
    "uncertainty = np.std(tree_preds, axis=0)\n",
    "\n",
    "# predicted probabilities and their uncertainties\n",
    "for i in range(10):\n",
    "    print(f\"Sample {i+1} - Predicted Probability: {y_pred_proba_rf[i]:.4f}, Uncertainty: {uncertainty[i]:.4f}\")\n"
   ]
  },
  {
   "cell_type": "markdown",
   "id": "48b0e1d2",
   "metadata": {},
   "source": [
    "### Use SHAP or LIME for Model Explanations"
   ]
  },
  {
   "cell_type": "code",
   "execution_count": 120,
   "id": "01b13d8c",
   "metadata": {
    "scrolled": true
   },
   "outputs": [
    {
     "data": {
      "image/png": "[encoded data removed]",
      "text/plain": [
       "<Figure size 1150x660 with 2 Axes>"
      ]
     },
     "metadata": {},
     "output_type": "display_data"
    }
   ],
   "source": [
    "import shap\n",
    "\n",
    "# SHAP explainer\n",
    "explainer = shap.TreeExplainer(rf)\n",
    "shap_values = explainer.shap_values(X_test)\n",
    "\n",
    "# To get the mean absolute SHAP values across all classes\n",
    "shap_values_sum = np.abs(shap_values[0]).mean(axis=0)\n",
    "for shap_values_class in shap_values[1:]:\n",
    "    shap_values_sum += np.abs(shap_values_class).mean(axis=0)\n",
    "shap_values_mean = shap_values_sum / len(shap_values)\n",
    "\n",
    "# Plot summary of feature importance\n",
    "shap.summary_plot(shap_values, X_test, feature_names=X.columns)"
   ]
  },
  {
   "cell_type": "markdown",
   "id": "3ae07050",
   "metadata": {},
   "source": [
    "#### The SHAP summary plot shows the impact of each feature on the model's output. Positive SHAP values increase the likelihood of the positive class (e.g., loan approval), and negative values decrease it."
   ]
  },
  {
   "cell_type": "markdown",
   "id": "ccbad4ac",
   "metadata": {},
   "source": [
    "### Real-Time Prediction System Architecture\n",
    "#### Here is a high-level architecture for a real-time prediction system:\n",
    "\n",
    "#### 1. Data Ingestion Layer:\n",
    "\n",
    "* Sources: Web forms, APIs, IoT devices, databases.\n",
    "* Tools: Kafka, AWS Kinesis, Google Pub/Sub for streaming data.\n",
    "\n",
    "#### 2. Preprocessing Layer:\n",
    "\n",
    "* Tasks: Data cleaning, feature engineering, scaling.\n",
    "* Tools: Apache Spark, Pandas, Scikit-learn Pipelines.\n",
    "\n",
    "#### 3. Model Inference Layer:\n",
    "\n",
    "* Tasks: Load the trained model, make predictions.\n",
    "* Tools: TensorFlow Serving, Flask/Django for REST API, AWS SageMaker.\n",
    "\n",
    "#### 4. Post-processing Layer:\n",
    "\n",
    "* Tasks: Apply business logic, calculate uncertainties, generate explanations.\n",
    "* Tools: Custom scripts, SHAP/LIME for explanations.\n",
    "\n",
    "#### 5. Serving Layer:\n",
    "\n",
    "* Tasks: Serve predictions to clients/applications.\n",
    "* Tools: REST APIs, WebSockets, gRPC.\n",
    "\n",
    "#### 6. Monitoring Layer:\n",
    "\n",
    "* Tasks: Monitor model performance, log predictions, and outcomes.\n",
    "* Tools: Prometheus, Grafana, ELK stack (Elasticsearch, Logstash, Kibana)"
   ]
  },
  {
   "cell_type": "markdown",
   "id": "f80682fe",
   "metadata": {},
   "source": [
    "# Part B: Deep Learning"
   ]
  },
  {
   "cell_type": "markdown",
   "id": "d1442ea8",
   "metadata": {},
   "source": [
    "### Strategy for Model Performance Monitoring and Updating Criteria\n",
    "\n",
    "#### Monitoring:\n",
    "\n",
    "* Performance Metrics: Track accuracy, precision, recall, F1-score on a validation set.\n",
    "* Data Drift: Monitor statistical properties of input data to detect shifts from the training data distribution.\n",
    "* Logging: Log predictions, actual outcomes, and uncertainties for analysis.\n",
    "* Visualization: Use dashboards (Grafana, Kibana) to visualize performance over time.\n",
    "\n",
    "#### 2. Updating Criteria:\n",
    "\n",
    "* Scheduled Retraining: Retrain the model periodically (e.g., monthly or quarterly).\n",
    "* Performance Degradation: Retrain if performance metrics drop below a threshold.\n",
    "* Data Drift: Trigger retraining when significant drift is detected using statistical tests (e.g., KS test, Chi-square test).\n",
    "* Incorporate Feedback: Continuously update the training set with new data and feedback to improve model robustness."
   ]
  },
  {
   "cell_type": "markdown",
   "id": "5f21a665",
   "metadata": {},
   "source": [
    "## 1. Training a Basic Neural Network"
   ]
  },
  {
   "cell_type": "code",
   "execution_count": 121,
   "id": "2b1e676d",
   "metadata": {},
   "outputs": [
    {
     "name": "stdout",
     "output_type": "stream",
     "text": [
      "   Loan_ID Gender Marital_Status Number_of_Dependents Education_Level  \\\n",
      "0  LP00031   Male            Yes                    0        Graduate   \n",
      "1  LP00032   Male            Yes                    2        Graduate   \n",
      "2  LP00033   Male            Yes                    0        Graduate   \n",
      "3  LP00034   Male             No                    0    Not Graduate   \n",
      "4  LP00035   Male            Yes                    0        Graduate   \n",
      "\n",
      "  Independent_Worker  Applicant_Income  Coapplicant_Income   Location  \\\n",
      "0                 No              9329                   0      Rural   \n",
      "1                 No              2043                1619      Rural   \n",
      "2                 No              4754                2331      Urban   \n",
      "3                 No              2721                   0      Urban   \n",
      "4                 No              2998                3419  Semiurban   \n",
      "\n",
      "   Amount_Requested   Term  Credit_History Approval_Status  \n",
      "0             189.0  180.0             1.0               Y  \n",
      "1             102.0  360.0             1.0               Y  \n",
      "2             129.0  360.0             1.0               Y  \n",
      "3              59.0  180.0             1.0               Y  \n",
      "4              56.0  180.0             1.0               Y  \n"
     ]
    }
   ],
   "source": [
    "import pandas as pd\n",
    "\n",
    "data = pd.read_csv('assessment2_dataset.csv')\n",
    "print(data.head())\n"
   ]
  },
  {
   "cell_type": "code",
   "execution_count": 122,
   "id": "956831be",
   "metadata": {},
   "outputs": [
    {
     "data": {
      "text/plain": [
       "((488, 13), (122, 13), (488,), (122,))"
      ]
     },
     "execution_count": 122,
     "metadata": {},
     "output_type": "execute_result"
    }
   ],
   "source": [
    "import pandas as pd\n",
    "import numpy as np\n",
    "from sklearn.model_selection import train_test_split\n",
    "from sklearn.preprocessing import StandardScaler\n",
    "from sklearn.metrics import accuracy_score, precision_score, recall_score, f1_score\n",
    "from sklearn.preprocessing import OneHotEncoder\n",
    "from sklearn.compose import ColumnTransformer\n",
    "\n",
    "\n",
    "# features \n",
    "X = df.drop(['Loan_ID', 'Approval_Status', 'Applicant_Income', 'Amount_Requested'], axis=1) \n",
    "\n",
    "# target variable\n",
    "y = df['Approval_Status'].map({'Y': 1, 'N': 0})  \n",
    "\n",
    "# One-hot encoding categorical variables\n",
    "X_encoded = pd.get_dummies(X, drop_first=True)\n",
    "\n",
    "# Splitting the data into training and testing sets\n",
    "X_train, X_test, y_train, y_test = train_test_split(X_encoded, y, test_size=0.2, random_state=42)\n",
    "\n",
    "# Displaying the shapes of the training and testing sets to ensure they are split correctly\n",
    "X_train.shape, X_test.shape, y_train.shape, y_test.shape\n"
   ]
  },
  {
   "cell_type": "code",
   "execution_count": 123,
   "id": "ae66601c",
   "metadata": {},
   "outputs": [
    {
     "name": "stdout",
     "output_type": "stream",
     "text": [
      "Epoch 1/10\n"
     ]
    },
    {
     "name": "stderr",
     "output_type": "stream",
     "text": [
      "C:\\Users\\fr2071tu\\sample_project\\env\\lib\\site-packages\\keras\\src\\layers\\core\\dense.py:87: UserWarning: Do not pass an `input_shape`/`input_dim` argument to a layer. When using Sequential models, prefer using an `Input(shape)` object as the first layer in the model instead.\n",
      "  super().__init__(activity_regularizer=activity_regularizer, **kwargs)\n"
     ]
    },
    {
     "name": "stdout",
     "output_type": "stream",
     "text": [
      "\u001b[1m13/13\u001b[0m \u001b[32m━━━━━━━━━━━━━━━━━━━━\u001b[0m\u001b[37m\u001b[0m \u001b[1m2s\u001b[0m 30ms/step - accuracy: 0.5094 - loss: 12.2432 - val_accuracy: 0.4490 - val_loss: 2.8802\n",
      "Epoch 2/10\n",
      "\u001b[1m13/13\u001b[0m \u001b[32m━━━━━━━━━━━━━━━━━━━━\u001b[0m\u001b[37m\u001b[0m \u001b[1m0s\u001b[0m 7ms/step - accuracy: 0.5813 - loss: 4.1956 - val_accuracy: 0.5510 - val_loss: 2.3360\n",
      "Epoch 3/10\n",
      "\u001b[1m13/13\u001b[0m \u001b[32m━━━━━━━━━━━━━━━━━━━━\u001b[0m\u001b[37m\u001b[0m \u001b[1m0s\u001b[0m 7ms/step - accuracy: 0.6293 - loss: 2.7130 - val_accuracy: 0.6837 - val_loss: 2.0836\n",
      "Epoch 4/10\n",
      "\u001b[1m13/13\u001b[0m \u001b[32m━━━━━━━━━━━━━━━━━━━━\u001b[0m\u001b[37m\u001b[0m \u001b[1m0s\u001b[0m 7ms/step - accuracy: 0.6446 - loss: 2.4689 - val_accuracy: 0.5918 - val_loss: 1.7188\n",
      "Epoch 5/10\n",
      "\u001b[1m13/13\u001b[0m \u001b[32m━━━━━━━━━━━━━━━━━━━━\u001b[0m\u001b[37m\u001b[0m \u001b[1m0s\u001b[0m 8ms/step - accuracy: 0.6224 - loss: 2.0142 - val_accuracy: 0.4898 - val_loss: 2.1350\n",
      "Epoch 6/10\n",
      "\u001b[1m13/13\u001b[0m \u001b[32m━━━━━━━━━━━━━━━━━━━━\u001b[0m\u001b[37m\u001b[0m \u001b[1m0s\u001b[0m 7ms/step - accuracy: 0.6329 - loss: 2.0829 - val_accuracy: 0.5612 - val_loss: 2.4337\n",
      "Epoch 7/10\n",
      "\u001b[1m13/13\u001b[0m \u001b[32m━━━━━━━━━━━━━━━━━━━━\u001b[0m\u001b[37m\u001b[0m \u001b[1m0s\u001b[0m 6ms/step - accuracy: 0.6265 - loss: 2.5964 - val_accuracy: 0.4592 - val_loss: 4.9743\n",
      "Epoch 8/10\n",
      "\u001b[1m13/13\u001b[0m \u001b[32m━━━━━━━━━━━━━━━━━━━━\u001b[0m\u001b[37m\u001b[0m \u001b[1m0s\u001b[0m 7ms/step - accuracy: 0.6422 - loss: 3.5319 - val_accuracy: 0.4796 - val_loss: 3.0462\n",
      "Epoch 9/10\n",
      "\u001b[1m13/13\u001b[0m \u001b[32m━━━━━━━━━━━━━━━━━━━━\u001b[0m\u001b[37m\u001b[0m \u001b[1m0s\u001b[0m 8ms/step - accuracy: 0.6630 - loss: 2.6272 - val_accuracy: 0.3878 - val_loss: 3.8818\n",
      "Epoch 10/10\n",
      "\u001b[1m13/13\u001b[0m \u001b[32m━━━━━━━━━━━━━━━━━━━━\u001b[0m\u001b[37m\u001b[0m \u001b[1m0s\u001b[0m 7ms/step - accuracy: 0.5295 - loss: 1.9113 - val_accuracy: 0.6224 - val_loss: 1.8514\n"
     ]
    }
   ],
   "source": [
    "import tensorflow as tf\n",
    "from tensorflow.keras.models import Sequential\n",
    "from tensorflow.keras.layers import Dense, Embedding, Flatten\n",
    "\n",
    "# Define the model\n",
    "model = Sequential([\n",
    "    Dense(64, activation='relu', input_shape=(X_train.shape[1],)),\n",
    "    Dense(32, activation='relu'),\n",
    "    Dense(1, activation='sigmoid')\n",
    "])\n",
    "\n",
    "model.compile(optimizer='adam', loss='binary_crossentropy', metrics=['accuracy'])\n",
    "\n",
    "# Model Training\n",
    "history = model.fit(X_train, y_train, epochs=10, batch_size=32, validation_split=0.2)\n"
   ]
  },
  {
   "cell_type": "markdown",
   "id": "c28a604c",
   "metadata": {},
   "source": [
    "## 2. Implementing Feature Learning for Complex Pattern Extraction\n",
    "### Deep neural networks automatically learn features from the data through hidden layers. Here, we have used multiple dense layers to enable the network to learn complex patterns from the data."
   ]
  },
  {
   "cell_type": "code",
   "execution_count": 124,
   "id": "dbe16cd1",
   "metadata": {},
   "outputs": [
    {
     "name": "stdout",
     "output_type": "stream",
     "text": [
      "Epoch 1/10\n",
      "\u001b[1m13/13\u001b[0m \u001b[32m━━━━━━━━━━━━━━━━━━━━\u001b[0m\u001b[37m\u001b[0m \u001b[1m4s\u001b[0m 43ms/step - accuracy: 0.5716 - loss: 0.6902 - val_accuracy: 0.6735 - val_loss: 0.6781\n",
      "Epoch 2/10\n",
      "\u001b[1m13/13\u001b[0m \u001b[32m━━━━━━━━━━━━━━━━━━━━\u001b[0m\u001b[37m\u001b[0m \u001b[1m0s\u001b[0m 8ms/step - accuracy: 0.6738 - loss: 0.6734 - val_accuracy: 0.6735 - val_loss: 0.6574\n",
      "Epoch 3/10\n",
      "\u001b[1m13/13\u001b[0m \u001b[32m━━━━━━━━━━━━━━━━━━━━\u001b[0m\u001b[37m\u001b[0m \u001b[1m0s\u001b[0m 7ms/step - accuracy: 0.6712 - loss: 0.6523 - val_accuracy: 0.6735 - val_loss: 0.6358\n",
      "Epoch 4/10\n",
      "\u001b[1m13/13\u001b[0m \u001b[32m━━━━━━━━━━━━━━━━━━━━\u001b[0m\u001b[37m\u001b[0m \u001b[1m0s\u001b[0m 7ms/step - accuracy: 0.6988 - loss: 0.6221 - val_accuracy: 0.6735 - val_loss: 0.6248\n",
      "Epoch 5/10\n",
      "\u001b[1m13/13\u001b[0m \u001b[32m━━━━━━━━━━━━━━━━━━━━\u001b[0m\u001b[37m\u001b[0m \u001b[1m0s\u001b[0m 8ms/step - accuracy: 0.7052 - loss: 0.6068 - val_accuracy: 0.6735 - val_loss: 0.6231\n",
      "Epoch 6/10\n",
      "\u001b[1m13/13\u001b[0m \u001b[32m━━━━━━━━━━━━━━━━━━━━\u001b[0m\u001b[37m\u001b[0m \u001b[1m0s\u001b[0m 8ms/step - accuracy: 0.7207 - loss: 0.5895 - val_accuracy: 0.6735 - val_loss: 0.6228\n",
      "Epoch 7/10\n",
      "\u001b[1m13/13\u001b[0m \u001b[32m━━━━━━━━━━━━━━━━━━━━\u001b[0m\u001b[37m\u001b[0m \u001b[1m0s\u001b[0m 9ms/step - accuracy: 0.6896 - loss: 0.6146 - val_accuracy: 0.6735 - val_loss: 0.6185\n",
      "Epoch 8/10\n",
      "\u001b[1m13/13\u001b[0m \u001b[32m━━━━━━━━━━━━━━━━━━━━\u001b[0m\u001b[37m\u001b[0m \u001b[1m0s\u001b[0m 9ms/step - accuracy: 0.6793 - loss: 0.6201 - val_accuracy: 0.6735 - val_loss: 0.6167\n",
      "Epoch 9/10\n",
      "\u001b[1m13/13\u001b[0m \u001b[32m━━━━━━━━━━━━━━━━━━━━\u001b[0m\u001b[37m\u001b[0m \u001b[1m0s\u001b[0m 8ms/step - accuracy: 0.6817 - loss: 0.6183 - val_accuracy: 0.6735 - val_loss: 0.6143\n",
      "Epoch 10/10\n",
      "\u001b[1m13/13\u001b[0m \u001b[32m━━━━━━━━━━━━━━━━━━━━\u001b[0m\u001b[37m\u001b[0m \u001b[1m0s\u001b[0m 8ms/step - accuracy: 0.6333 - loss: 0.6506 - val_accuracy: 0.6735 - val_loss: 0.6125\n"
     ]
    }
   ],
   "source": [
    "from tensorflow.keras.layers import Input, Embedding, Concatenate, Flatten, Dense\n",
    "from tensorflow.keras.models import Model\n",
    "\n",
    "# inputs\n",
    "input_gender = Input(shape=(1,))\n",
    "input_marital_status = Input(shape=(1,))\n",
    "input_education = Input(shape=(1,))\n",
    "input_independent_worker = Input(shape=(1,))\n",
    "input_location = Input(shape=(1,))\n",
    "\n",
    "# embeddings\n",
    "embedding_gender = Embedding(input_dim=2, output_dim=2)(input_gender)\n",
    "embedding_marital_status = Embedding(input_dim=2, output_dim=2)(input_marital_status)\n",
    "embedding_education = Embedding(input_dim=2, output_dim=2)(input_education)\n",
    "embedding_independent_worker = Embedding(input_dim=2, output_dim=2)(input_independent_worker)\n",
    "embedding_location = Embedding(input_dim=3, output_dim=3)(input_location)\n",
    "\n",
    "# embeddings\n",
    "flat_gender = Flatten()(embedding_gender)\n",
    "flat_marital_status = Flatten()(embedding_marital_status)\n",
    "flat_education = Flatten()(embedding_education)\n",
    "flat_independent_worker = Flatten()(embedding_independent_worker)\n",
    "flat_location = Flatten()(embedding_location)\n",
    "\n",
    "# Combine all inputs\n",
    "combined = Concatenate()([flat_gender, flat_marital_status, flat_education, flat_independent_worker, flat_location])\n",
    "\n",
    "# Define the rest of the network\n",
    "dense_1 = Dense(64, activation='relu')(combined)\n",
    "dense_2 = Dense(32, activation='relu')(dense_1)\n",
    "output = Dense(1, activation='sigmoid')(dense_2)\n",
    "\n",
    "# the model\n",
    "model = Model(inputs=[input_gender, input_marital_status, input_education, input_independent_worker, input_location], outputs=output)\n",
    "\n",
    "# Compile the model\n",
    "model.compile(optimizer='adam', loss='binary_crossentropy', metrics=['accuracy'])\n",
    "\n",
    "# Prepare the data for the embedding model\n",
    "X_train_embeddings = [\n",
    "    X_train['Gender_Male'],\n",
    "    X_train['Marital_Status_Yes'],\n",
    "    X_train['Education_Level_Not Graduate'],\n",
    "    X_train['Independent_Worker_Yes'],\n",
    "    X_train['Location_Semiurban'],\n",
    "]\n",
    "\n",
    "# model training\n",
    "history = model.fit(X_train_embeddings, y_train, epochs=10, batch_size=32, validation_split=0.2)\n"
   ]
  },
  {
   "cell_type": "markdown",
   "id": "dc317b16",
   "metadata": {},
   "source": [
    "## 3. Utilizing Embedding Layers for Categorical Data\n",
    "### For categorical data, embedding layers are often used to convert high-dimensional categorical data into lower-dimensional vectors. Here's an example:"
   ]
  },
  {
   "cell_type": "code",
   "execution_count": 128,
   "id": "93830c98",
   "metadata": {},
   "outputs": [
    {
     "name": "stdout",
     "output_type": "stream",
     "text": [
      "Epoch 1/10\n",
      "\u001b[1m13/13\u001b[0m \u001b[32m━━━━━━━━━━━━━━━━━━━━\u001b[0m\u001b[37m\u001b[0m \u001b[1m4s\u001b[0m 41ms/step - accuracy: 0.5877 - loss: 0.6882 - val_accuracy: 0.6735 - val_loss: 0.6711\n",
      "Epoch 2/10\n",
      "\u001b[1m13/13\u001b[0m \u001b[32m━━━━━━━━━━━━━━━━━━━━\u001b[0m\u001b[37m\u001b[0m \u001b[1m0s\u001b[0m 7ms/step - accuracy: 0.7058 - loss: 0.6562 - val_accuracy: 0.6735 - val_loss: 0.6458\n",
      "Epoch 3/10\n",
      "\u001b[1m13/13\u001b[0m \u001b[32m━━━━━━━━━━━━━━━━━━━━\u001b[0m\u001b[37m\u001b[0m \u001b[1m0s\u001b[0m 8ms/step - accuracy: 0.6332 - loss: 0.6506 - val_accuracy: 0.6735 - val_loss: 0.6325\n",
      "Epoch 4/10\n",
      "\u001b[1m13/13\u001b[0m \u001b[32m━━━━━━━━━━━━━━━━━━━━\u001b[0m\u001b[37m\u001b[0m \u001b[1m0s\u001b[0m 8ms/step - accuracy: 0.6732 - loss: 0.6254 - val_accuracy: 0.6735 - val_loss: 0.6317\n",
      "Epoch 5/10\n",
      "\u001b[1m13/13\u001b[0m \u001b[32m━━━━━━━━━━━━━━━━━━━━\u001b[0m\u001b[37m\u001b[0m \u001b[1m0s\u001b[0m 8ms/step - accuracy: 0.6881 - loss: 0.6148 - val_accuracy: 0.6735 - val_loss: 0.6315\n",
      "Epoch 6/10\n",
      "\u001b[1m13/13\u001b[0m \u001b[32m━━━━━━━━━━━━━━━━━━━━\u001b[0m\u001b[37m\u001b[0m \u001b[1m0s\u001b[0m 8ms/step - accuracy: 0.6910 - loss: 0.6109 - val_accuracy: 0.6735 - val_loss: 0.6262\n",
      "Epoch 7/10\n",
      "\u001b[1m13/13\u001b[0m \u001b[32m━━━━━━━━━━━━━━━━━━━━\u001b[0m\u001b[37m\u001b[0m \u001b[1m0s\u001b[0m 8ms/step - accuracy: 0.6880 - loss: 0.6201 - val_accuracy: 0.6735 - val_loss: 0.6238\n",
      "Epoch 8/10\n",
      "\u001b[1m13/13\u001b[0m \u001b[32m━━━━━━━━━━━━━━━━━━━━\u001b[0m\u001b[37m\u001b[0m \u001b[1m0s\u001b[0m 10ms/step - accuracy: 0.6877 - loss: 0.6151 - val_accuracy: 0.6735 - val_loss: 0.6198\n",
      "Epoch 9/10\n",
      "\u001b[1m13/13\u001b[0m \u001b[32m━━━━━━━━━━━━━━━━━━━━\u001b[0m\u001b[37m\u001b[0m \u001b[1m0s\u001b[0m 7ms/step - accuracy: 0.7027 - loss: 0.6019 - val_accuracy: 0.6735 - val_loss: 0.6174\n",
      "Epoch 10/10\n",
      "\u001b[1m13/13\u001b[0m \u001b[32m━━━━━━━━━━━━━━━━━━━━\u001b[0m\u001b[37m\u001b[0m \u001b[1m0s\u001b[0m 7ms/step - accuracy: 0.7094 - loss: 0.5904 - val_accuracy: 0.6735 - val_loss: 0.6176\n"
     ]
    }
   ],
   "source": [
    "# Prepare the data for the embedding model\n",
    "X_train_embeddings = [\n",
    "    X_train['Gender_Male'].values,  \n",
    "    X_train['Marital_Status_Yes'].values,  \n",
    "    X_train['Education_Level_Not Graduate'].values,  \n",
    "    X_train['Independent_Worker_Yes'].values,  \n",
    "    X_train['Location_Semiurban'].values, \n",
    "]\n",
    "\n",
    "# Define the model architecture\n",
    "input_gender = Input(shape=(1,))\n",
    "input_marital_status = Input(shape=(1,))\n",
    "input_education = Input(shape=(1,))\n",
    "input_independent_worker = Input(shape=(1,))\n",
    "input_location = Input(shape=(1,))\n",
    "\n",
    "# Define embeddings\n",
    "embedding_dim = 5  # You can adjust the dimensionality of the embedding space\n",
    "embedding_gender = Embedding(input_dim=2, output_dim=embedding_dim)(input_gender)\n",
    "embedding_marital_status = Embedding(input_dim=2, output_dim=embedding_dim)(input_marital_status)\n",
    "embedding_education = Embedding(input_dim=2, output_dim=embedding_dim)(input_education)\n",
    "embedding_independent_worker = Embedding(input_dim=2, output_dim=embedding_dim)(input_independent_worker)\n",
    "embedding_location = Embedding(input_dim=2, output_dim=embedding_dim)(input_location)\n",
    "\n",
    "# Flatten embeddings\n",
    "flat_gender = Flatten()(embedding_gender)\n",
    "flat_marital_status = Flatten()(embedding_marital_status)\n",
    "flat_education = Flatten()(embedding_education)\n",
    "flat_independent_worker = Flatten()(embedding_independent_worker)\n",
    "flat_location = Flatten()(embedding_location)\n",
    "\n",
    "# Combine all inputs\n",
    "combined = Concatenate()([flat_gender, flat_marital_status, flat_education, flat_independent_worker, flat_location])\n",
    "\n",
    "# Define the rest of the network\n",
    "dense_1 = Dense(64, activation='relu')(combined)\n",
    "dense_2 = Dense(32, activation='relu')(dense_1)\n",
    "output = Dense(1, activation='sigmoid')(dense_2)\n",
    "\n",
    "# Define the model\n",
    "model = Model(inputs=[input_gender, input_marital_status, input_education, input_independent_worker, input_location], outputs=output)\n",
    "\n",
    "# Compile the model\n",
    "model.compile(optimizer='adam', loss='binary_crossentropy', metrics=['accuracy'])\n",
    "\n",
    "# Train the model\n",
    "history = model.fit(X_train_embeddings, y_train, epochs=10, batch_size=32, validation_split=0.2)\n"
   ]
  },
  {
   "cell_type": "code",
   "execution_count": 146,
   "id": "3287b0b6",
   "metadata": {},
   "outputs": [
    {
     "name": "stdout",
     "output_type": "stream",
     "text": [
      "Epoch 1/10\n"
     ]
    },
    {
     "ename": "ValueError",
     "evalue": "Missing data for input \"input_layer_153\". You passed a data dictionary with keys ['input_1', 'input_2', 'input_3', 'input_4', 'input_5']. Expected the following keys: ['input_layer_153', 'input_layer_154', 'input_layer_155', 'input_layer_156', 'input_layer_157']",
     "output_type": "error",
     "traceback": [
      "\u001b[1;31m---------------------------------------------------------------------------\u001b[0m",
      "\u001b[1;31mValueError\u001b[0m                                Traceback (most recent call last)",
      "Cell \u001b[1;32mIn[146], line 46\u001b[0m\n\u001b[0;32m     37\u001b[0m X_train_embeddings \u001b[38;5;241m=\u001b[39m  {\n\u001b[0;32m     38\u001b[0m     \u001b[38;5;124m'\u001b[39m\u001b[38;5;124minput_1\u001b[39m\u001b[38;5;124m'\u001b[39m: X_train[\u001b[38;5;124m'\u001b[39m\u001b[38;5;124mGender_Male\u001b[39m\u001b[38;5;124m'\u001b[39m]\u001b[38;5;241m.\u001b[39mvalues,\n\u001b[0;32m     39\u001b[0m     \u001b[38;5;124m'\u001b[39m\u001b[38;5;124minput_2\u001b[39m\u001b[38;5;124m'\u001b[39m: X_train[\u001b[38;5;124m'\u001b[39m\u001b[38;5;124mMarital_Status_Yes\u001b[39m\u001b[38;5;124m'\u001b[39m]\u001b[38;5;241m.\u001b[39mvalues,\n\u001b[1;32m   (...)\u001b[0m\n\u001b[0;32m     42\u001b[0m     \u001b[38;5;124m'\u001b[39m\u001b[38;5;124minput_5\u001b[39m\u001b[38;5;124m'\u001b[39m: X_train[\u001b[38;5;124m'\u001b[39m\u001b[38;5;124mLocation_Semiurban\u001b[39m\u001b[38;5;124m'\u001b[39m]\u001b[38;5;241m.\u001b[39mvalues,\n\u001b[0;32m     43\u001b[0m }\n\u001b[0;32m     45\u001b[0m \u001b[38;5;66;03m# Train the model\u001b[39;00m\n\u001b[1;32m---> 46\u001b[0m history \u001b[38;5;241m=\u001b[39m \u001b[43mmodel\u001b[49m\u001b[38;5;241;43m.\u001b[39;49m\u001b[43mfit\u001b[49m\u001b[43m(\u001b[49m\u001b[43mX_train_embeddings\u001b[49m\u001b[43m,\u001b[49m\u001b[43m \u001b[49m\u001b[43my_train\u001b[49m\u001b[43m,\u001b[49m\u001b[43m \u001b[49m\u001b[43mepochs\u001b[49m\u001b[38;5;241;43m=\u001b[39;49m\u001b[38;5;241;43m10\u001b[39;49m\u001b[43m,\u001b[49m\u001b[43m \u001b[49m\u001b[43mbatch_size\u001b[49m\u001b[38;5;241;43m=\u001b[39;49m\u001b[38;5;241;43m32\u001b[39;49m\u001b[43m,\u001b[49m\u001b[43m \u001b[49m\u001b[43mvalidation_split\u001b[49m\u001b[38;5;241;43m=\u001b[39;49m\u001b[38;5;241;43m0.2\u001b[39;49m\u001b[43m)\u001b[49m\n\u001b[0;32m     49\u001b[0m \u001b[38;5;66;03m# Prepare the data for the embedding model for test data\u001b[39;00m\n\u001b[0;32m     50\u001b[0m X_test_embeddings \u001b[38;5;241m=\u001b[39m X_test_embeddings \u001b[38;5;241m=\u001b[39m {\n\u001b[0;32m     51\u001b[0m     \u001b[38;5;124m'\u001b[39m\u001b[38;5;124minput_1\u001b[39m\u001b[38;5;124m'\u001b[39m: X_test[\u001b[38;5;124m'\u001b[39m\u001b[38;5;124mGender_Male\u001b[39m\u001b[38;5;124m'\u001b[39m]\u001b[38;5;241m.\u001b[39mvalues,\n\u001b[0;32m     52\u001b[0m     \u001b[38;5;124m'\u001b[39m\u001b[38;5;124minput_2\u001b[39m\u001b[38;5;124m'\u001b[39m: X_test[\u001b[38;5;124m'\u001b[39m\u001b[38;5;124mMarital_Status_Yes\u001b[39m\u001b[38;5;124m'\u001b[39m]\u001b[38;5;241m.\u001b[39mvalues,\n\u001b[1;32m   (...)\u001b[0m\n\u001b[0;32m     55\u001b[0m     \u001b[38;5;124m'\u001b[39m\u001b[38;5;124minput_5\u001b[39m\u001b[38;5;124m'\u001b[39m: X_test[\u001b[38;5;124m'\u001b[39m\u001b[38;5;124mLocation_Semiurban\u001b[39m\u001b[38;5;124m'\u001b[39m]\u001b[38;5;241m.\u001b[39mvalues,\n\u001b[0;32m     56\u001b[0m }\n",
      "File \u001b[1;32m~\\sample_project\\env\\lib\\site-packages\\keras\\src\\utils\\traceback_utils.py:122\u001b[0m, in \u001b[0;36mfilter_traceback.<locals>.error_handler\u001b[1;34m(*args, **kwargs)\u001b[0m\n\u001b[0;32m    119\u001b[0m     filtered_tb \u001b[38;5;241m=\u001b[39m _process_traceback_frames(e\u001b[38;5;241m.\u001b[39m__traceback__)\n\u001b[0;32m    120\u001b[0m     \u001b[38;5;66;03m# To get the full stack trace, call:\u001b[39;00m\n\u001b[0;32m    121\u001b[0m     \u001b[38;5;66;03m# `keras.config.disable_traceback_filtering()`\u001b[39;00m\n\u001b[1;32m--> 122\u001b[0m     \u001b[38;5;28;01mraise\u001b[39;00m e\u001b[38;5;241m.\u001b[39mwith_traceback(filtered_tb) \u001b[38;5;28;01mfrom\u001b[39;00m \u001b[38;5;28;01mNone\u001b[39;00m\n\u001b[0;32m    123\u001b[0m \u001b[38;5;28;01mfinally\u001b[39;00m:\n\u001b[0;32m    124\u001b[0m     \u001b[38;5;28;01mdel\u001b[39;00m filtered_tb\n",
      "File \u001b[1;32m~\\sample_project\\env\\lib\\site-packages\\keras\\src\\layers\\input_spec.py:145\u001b[0m, in \u001b[0;36massert_input_compatibility\u001b[1;34m(input_spec, inputs, layer_name)\u001b[0m\n\u001b[0;32m    143\u001b[0m \u001b[38;5;28;01mfor\u001b[39;00m name \u001b[38;5;129;01min\u001b[39;00m names:\n\u001b[0;32m    144\u001b[0m     \u001b[38;5;28;01mif\u001b[39;00m name \u001b[38;5;129;01mnot\u001b[39;00m \u001b[38;5;129;01min\u001b[39;00m inputs:\n\u001b[1;32m--> 145\u001b[0m         \u001b[38;5;28;01mraise\u001b[39;00m \u001b[38;5;167;01mValueError\u001b[39;00m(\n\u001b[0;32m    146\u001b[0m             \u001b[38;5;124mf\u001b[39m\u001b[38;5;124m'\u001b[39m\u001b[38;5;124mMissing data for input \u001b[39m\u001b[38;5;124m\"\u001b[39m\u001b[38;5;132;01m{\u001b[39;00mname\u001b[38;5;132;01m}\u001b[39;00m\u001b[38;5;124m\"\u001b[39m\u001b[38;5;124m. \u001b[39m\u001b[38;5;124m'\u001b[39m\n\u001b[0;32m    147\u001b[0m             \u001b[38;5;124m\"\u001b[39m\u001b[38;5;124mYou passed a data dictionary with keys \u001b[39m\u001b[38;5;124m\"\u001b[39m\n\u001b[0;32m    148\u001b[0m             \u001b[38;5;124mf\u001b[39m\u001b[38;5;124m\"\u001b[39m\u001b[38;5;132;01m{\u001b[39;00m\u001b[38;5;28mlist\u001b[39m(inputs\u001b[38;5;241m.\u001b[39mkeys())\u001b[38;5;132;01m}\u001b[39;00m\u001b[38;5;124m. \u001b[39m\u001b[38;5;124m\"\u001b[39m\n\u001b[0;32m    149\u001b[0m             \u001b[38;5;124mf\u001b[39m\u001b[38;5;124m\"\u001b[39m\u001b[38;5;124mExpected the following keys: \u001b[39m\u001b[38;5;132;01m{\u001b[39;00mnames\u001b[38;5;132;01m}\u001b[39;00m\u001b[38;5;124m\"\u001b[39m\n\u001b[0;32m    150\u001b[0m         )\n\u001b[0;32m    151\u001b[0m     list_inputs\u001b[38;5;241m.\u001b[39mappend(inputs[name])\n\u001b[0;32m    152\u001b[0m inputs \u001b[38;5;241m=\u001b[39m list_inputs\n",
      "\u001b[1;31mValueError\u001b[0m: Missing data for input \"input_layer_153\". You passed a data dictionary with keys ['input_1', 'input_2', 'input_3', 'input_4', 'input_5']. Expected the following keys: ['input_layer_153', 'input_layer_154', 'input_layer_155', 'input_layer_156', 'input_layer_157']"
     ]
    }
   ],
   "source": [
    "import tensorflow as tf\n",
    "from tensorflow.keras.layers import Input, Embedding, Concatenate, Flatten, Dense\n",
    "from tensorflow.keras.models import Model\n",
    "import shap\n",
    "\n",
    "# Define the model architecture\n",
    "input_gender = Input(shape=(1,))\n",
    "input_marital_status = Input(shape=(1,))\n",
    "input_education = Input(shape=(1,))\n",
    "input_independent_worker = Input(shape=(1,))\n",
    "input_location = Input(shape=(1,))\n",
    "\n",
    "embedding_dim = 5  # You can adjust the dimensionality of the embedding space\n",
    "embedding_gender = Embedding(input_dim=2, output_dim=embedding_dim)(input_gender)\n",
    "embedding_marital_status = Embedding(input_dim=2, output_dim=embedding_dim)(input_marital_status)\n",
    "embedding_education = Embedding(input_dim=2, output_dim=embedding_dim)(input_education)\n",
    "embedding_independent_worker = Embedding(input_dim=2, output_dim=embedding_dim)(input_independent_worker)\n",
    "embedding_location = Embedding(input_dim=2, output_dim=embedding_dim)(input_location)\n",
    "\n",
    "flat_gender = Flatten()(embedding_gender)\n",
    "flat_marital_status = Flatten()(embedding_marital_status)\n",
    "flat_education = Flatten()(embedding_education)\n",
    "flat_independent_worker = Flatten()(embedding_independent_worker)\n",
    "flat_location = Flatten()(embedding_location)\n",
    "\n",
    "combined = Concatenate()([flat_gender, flat_marital_status, flat_education, flat_independent_worker, flat_location])\n",
    "\n",
    "dense_1 = Dense(64, activation='relu')(combined)\n",
    "dense_2 = Dense(32, activation='relu')(dense_1)\n",
    "output = Dense(1, activation='sigmoid')(dense_2)\n",
    "\n",
    "model = Model(inputs=[input_gender, input_marital_status, input_education, input_independent_worker, input_location], outputs=output)\n",
    "\n",
    "model.compile(optimizer='adam', loss='binary_crossentropy', metrics=['accuracy'])\n",
    "\n",
    "# Prepare the data for the embedding model for training data\n",
    "X_train_embeddings = [\n",
    "    X_train['Gender_Male'].values,  \n",
    "    X_train['Marital_Status_Yes'].values,  \n",
    "    X_train['Education_Level_Not Graduate'].values,  \n",
    "    X_train['Independent_Worker_Yes'].values,  \n",
    "    X_train['Location_Semiurban'].values, \n",
    "]\n",
    "\n",
    "# Train the model\n",
    "history = model.fit(X_train_embeddings, y_train, epochs=10, batch_size=32, validation_split=0.2)\n",
    "\n",
    "# Prepare the data for the embedding model for test data\n",
    "X_test_embeddings = [\n",
    "    X_test['Gender_Male'].values,  \n",
    "    X_test['Marital_Status_Yes'].values,  \n",
    "    X_test['Education_Level_Not Graduate'].values,  \n",
    "    X_test['Independent_Worker_Yes'].values,  \n",
    "    X_test['Location_Semiurban'].values, \n",
    "]\n",
    "\n",
    "# Explain the model's predictions using SHAP values\n",
    "explainer = shap.Explainer(model, X_train_embeddings)\n",
    "shap_values = explainer.shap_values(X_test_embeddings)\n",
    "\n",
    "# Visualize the SHAP values (optional)\n",
    "shap.summary_plot(shap_values, X_test_embeddings)\n"
   ]
  },
  {
   "cell_type": "markdown",
   "id": "d0f549b8",
   "metadata": {},
   "source": [
    "## Incorporating Unsupervised Learning"
   ]
  },
  {
   "cell_type": "markdown",
   "id": "9c5761f8",
   "metadata": {},
   "source": [
    "### Use Autoencoders for Anomaly Detection\n",
    "\n",
    "### Autoencoders can be used to detect anomalies by reconstructing input data and comparing the reconstruction error."
   ]
  },
  {
   "cell_type": "code",
   "execution_count": 127,
   "id": "a987d816",
   "metadata": {},
   "outputs": [
    {
     "name": "stdout",
     "output_type": "stream",
     "text": [
      "Epoch 1/10\n",
      "\u001b[1m13/13\u001b[0m \u001b[32m━━━━━━━━━━━━━━━━━━━━\u001b[0m\u001b[37m\u001b[0m \u001b[1m2s\u001b[0m 25ms/step - loss: 662440.2500 - val_loss: 543770.7500\n",
      "Epoch 2/10\n",
      "\u001b[1m13/13\u001b[0m \u001b[32m━━━━━━━━━━━━━━━━━━━━\u001b[0m\u001b[37m\u001b[0m \u001b[1m0s\u001b[0m 6ms/step - loss: 596875.7500 - val_loss: 543770.6875\n",
      "Epoch 3/10\n",
      "\u001b[1m13/13\u001b[0m \u001b[32m━━━━━━━━━━━━━━━━━━━━\u001b[0m\u001b[37m\u001b[0m \u001b[1m0s\u001b[0m 7ms/step - loss: 868604.1250 - val_loss: 543770.6250\n",
      "Epoch 4/10\n",
      "\u001b[1m13/13\u001b[0m \u001b[32m━━━━━━━━━━━━━━━━━━━━\u001b[0m\u001b[37m\u001b[0m \u001b[1m0s\u001b[0m 6ms/step - loss: 851278.7500 - val_loss: 543770.6250\n",
      "Epoch 5/10\n",
      "\u001b[1m13/13\u001b[0m \u001b[32m━━━━━━━━━━━━━━━━━━━━\u001b[0m\u001b[37m\u001b[0m \u001b[1m0s\u001b[0m 7ms/step - loss: 1157365.5000 - val_loss: 543770.6250\n",
      "Epoch 6/10\n",
      "\u001b[1m13/13\u001b[0m \u001b[32m━━━━━━━━━━━━━━━━━━━━\u001b[0m\u001b[37m\u001b[0m \u001b[1m0s\u001b[0m 8ms/step - loss: 827900.5625 - val_loss: 543770.6250\n",
      "Epoch 7/10\n",
      "\u001b[1m13/13\u001b[0m \u001b[32m━━━━━━━━━━━━━━━━━━━━\u001b[0m\u001b[37m\u001b[0m \u001b[1m0s\u001b[0m 9ms/step - loss: 693668.7500 - val_loss: 543770.6250\n",
      "Epoch 8/10\n",
      "\u001b[1m13/13\u001b[0m \u001b[32m━━━━━━━━━━━━━━━━━━━━\u001b[0m\u001b[37m\u001b[0m \u001b[1m0s\u001b[0m 8ms/step - loss: 1185546.5000 - val_loss: 543770.6250\n",
      "Epoch 9/10\n",
      "\u001b[1m13/13\u001b[0m \u001b[32m━━━━━━━━━━━━━━━━━━━━\u001b[0m\u001b[37m\u001b[0m \u001b[1m0s\u001b[0m 9ms/step - loss: 642112.6250 - val_loss: 543770.6250\n",
      "Epoch 10/10\n",
      "\u001b[1m13/13\u001b[0m \u001b[32m━━━━━━━━━━━━━━━━━━━━\u001b[0m\u001b[37m\u001b[0m \u001b[1m0s\u001b[0m 6ms/step - loss: 597729.5000 - val_loss: 543770.6250\n",
      "\u001b[1m4/4\u001b[0m \u001b[32m━━━━━━━━━━━━━━━━━━━━\u001b[0m\u001b[37m\u001b[0m \u001b[1m0s\u001b[0m 22ms/step\n"
     ]
    }
   ],
   "source": [
    "input_dim = X_train.shape[1]  # Input dimensionality\n",
    "\n",
    "# Encoder\n",
    "input_data = Input(shape=(input_dim,))\n",
    "encoded = Dense(64, activation='relu')(input_data)\n",
    "encoded = Dense(32, activation='relu')(encoded)\n",
    "\n",
    "# Decoder\n",
    "decoded = Dense(64, activation='relu')(encoded)\n",
    "decoded = Dense(input_dim, activation='sigmoid')(decoded)\n",
    "\n",
    "# Define the autoencoder model\n",
    "autoencoder = Model(input_data, decoded)\n",
    "\n",
    "# Compile the model\n",
    "autoencoder.compile(optimizer='adam', loss='mse') \n",
    "# Train the autoencoder\n",
    "autoencoder.fit(X_train, X_train, epochs=10, batch_size=32, validation_split=0.2)\n",
    "\n",
    "# Use the trained autoencoder to reconstruct data and compute reconstruction errors\n",
    "reconstructed_data = autoencoder.predict(X_test)\n",
    "reconstruction_errors = np.mean(np.square(X_test - reconstructed_data), axis=1)\n",
    "\n",
    "# Define a threshold for anomaly detection\n",
    "threshold = np.mean(reconstruction_errors) + 2 * np.std(reconstruction_errors) \n",
    "# Detect anomalies based on the reconstruction errors\n",
    "anomalies = X_test[reconstruction_errors > threshold]"
   ]
  },
  {
   "cell_type": "markdown",
   "id": "a54cb662",
   "metadata": {},
   "source": [
    "## Real-world Deployment:\n",
    "\n",
    "### 1. Scalability: Deep learning models often require significant computational resources, especially for inference in production environments with high throughput requirements. To address scalability challenges:\n",
    "\n",
    "* Use efficient model architectures and optimize model inference for speed and resource usage.\n",
    "* Utilize hardware accelerators like GPUs or TPUs to improve inference performance.\n",
    "* Implement distributed inference systems to distribute workload across multiple servers or nodes.\n",
    "\n",
    "### 2. Resource Management: Managing resources such as memory, storage, and computational power efficiently is crucial for deploying deep learning models in production. Strategies to manage resources effectively include:\n",
    "\n",
    "* Implementing memory-efficient data processing pipelines to minimize memory usage during inference.\n",
    "* Using batch processing and caching techniques to optimize resource utilization.\n",
    "* Monitoring and managing resource usage with tools and frameworks designed for resource management in production environments.\n",
    "\n",
    "### 3. Model Versioning and Updates: Continuous model improvement and updates are essential in real-world applications. Managing model versions and updates can be challenging. To address this:\n",
    "\n",
    "* Establish a robust version control system for tracking model versions and changes.\n",
    "* Implement automated deployment pipelines to streamline the process of updating and deploying new model versions.\n",
    "* Use techniques like A/B testing and gradual rollout to validate new model versions before full deployment.\n",
    "\n",
    "### 4. Monitoring and Maintenance: Monitoring model performance and health in production is critical for detecting issues and ensuring optimal performance. To address monitoring and maintenance challenges:\n",
    "\n",
    "* Implement logging and monitoring systems to track model performance metrics, input data distributions, and anomalies.\n",
    "* Set up alerts and triggers to notify when performance metrics deviate from expected values.\n",
    "* Establish regular maintenance schedules for model retraining, validation, and updating to ensure continued performance.\n",
    "\n",
    "### 5.Interoperability and Integration: Integrating deep learning models into existing software systems and workflows can be complex. To address interoperability challenges:\n",
    "\n",
    "* Design models with standardized input and output interfaces to facilitate integration with other systems.\n",
    "* Use containerization technologies like Docker to package models and dependencies for easy deployment and integration.\n",
    "* Develop APIs or microservices to expose model functionality and make it accessible to other software components.\n",
    "\n",
    "### 6.Security and Privacy: Deep learning models may be vulnerable to security threats and privacy breaches, especially when deployed in production environments. To address security and privacy concerns:\n",
    "\n",
    "* Implement encryption techniques to protect sensitive data and model parameters.\n",
    "* Use access controls and authentication mechanisms to restrict access to models and data.\n",
    "* Conduct regular security audits and vulnerability assessments to identify and mitigate potential risks."
   ]
  },
  {
   "cell_type": "code",
   "execution_count": null,
   "id": "175880f4",
   "metadata": {},
   "outputs": [],
   "source": []
  }
 ],
 "metadata": {
  "kernelspec": {
   "display_name": "Python 3 (ipykernel)",
   "language": "python",
   "name": "python3"
  },
  "language_info": {
   "codemirror_mode": {
    "name": "ipython",
    "version": 3
   },
   "file_extension": ".py",
   "mimetype": "text/x-python",
   "name": "python",
   "nbconvert_exporter": "python",
   "pygments_lexer": "ipython3",
   "version": "3.10.12"
  }
 },
 "nbformat": 4,
 "nbformat_minor": 5
}
